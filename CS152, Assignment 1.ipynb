{
 "cells": [
  {
   "cell_type": "markdown",
   "metadata": {},
   "source": [
    "Professor Shekhar\n",
    "\n",
    "Rita Kurban"
   ]
  },
  {
   "cell_type": "code",
   "execution_count": 1,
   "metadata": {
    "collapsed": true
   },
   "outputs": [],
   "source": [
    "# Get all the necessary packages\n",
    "from queue import PriorityQueue\n",
    "import random"
   ]
  },
  {
   "cell_type": "markdown",
   "metadata": {},
   "source": [
    "## PuzzleNode Class"
   ]
  },
  {
   "cell_type": "code",
   "execution_count": 2,
   "metadata": {
    "collapsed": false
   },
   "outputs": [],
   "source": [
    "class PuzzleNode(object):\n",
    "    \"\"\"PuzzleNode is a class that captures the state of\n",
    "    the 8-puzzle and its generalizations, as well\n",
    "    as the elements needed to implement an A∗ search.\n",
    "    \"\"\"\n",
    "\n",
    "    def __init__(self, n=3, init_state = None, parent = None):\n",
    "        \"\"\"Initializes an instance of a class with a\n",
    "        certain number of tiles in a raw and the initial\n",
    "        state and parent node that can be identified by the user.\n",
    "        Each object is characterized by the number of tiles in\n",
    "        a row, its parent, and a 1-D grid.\n",
    "        \"\"\"\n",
    "        self.n = n\n",
    "        self.parent = parent\n",
    "        if init_state == None:\n",
    "            self.grid = self.gen_state()\n",
    "        self.check_state(init_state)\n",
    "        self.grid = [item for sublist in init_state for item in sublist]\n",
    "    \n",
    "    def neighbor_states(self):\n",
    "        \"\"\" This function returns a list of 2 to 4 neighboring states.\"\"\"\n",
    "        state = self.get_state()\n",
    "        neighbors = []\n",
    "        for i in range(self.n**2):\n",
    "            new_puzzle_node = PuzzleNode(self.n, state)\n",
    "            if new_puzzle_node.move(i / self.n, i % self.n):\n",
    "                # Add the parent node\n",
    "                new_puzzle_node.parent = self\n",
    "                neighbors.append(new_puzzle_node)\n",
    "        return neighbors\n",
    "    \n",
    "    def check_state(self, init_state):\n",
    "        \"\"\" Checks whether the state specified by the user has the right format.\"\"\"\n",
    "        assert len(init_state) == self.n, \"Wrong number of rows\"\n",
    "        for i in range(len(init_state)):\n",
    "            assert len(init_state[i]) == self.n, \"Wrong number of columns in row {}\".format(i + 1)\n",
    "        st = [item for sublist in init_state for item in sublist]\n",
    "        goal = range(self.n**2)\n",
    "        assert len(goal) == len(st) and set(goal).issubset(st), \"Wrong tile labels\"\n",
    "\n",
    "    def gen_state(self):\n",
    "        \"\"\" Generates a 1-D grid if not specified by the user.\"\"\"\n",
    "        num = self.n**2\n",
    "        return random.sample(range(0,num), num)\n",
    "        \n",
    "    def __str__(self):\n",
    "        \"\"\" Prints out 2-D states.\"\"\"\n",
    "        s = ''\n",
    "        for i in range(self.n):\n",
    "            for j in range(self.n):\n",
    "                s += str(self.grid[i * self.n + j]) + \" \"\n",
    "            s += \"\\n\"\n",
    "        return s\n",
    "    \n",
    "    def __repr__(self):\n",
    "        \"\"\" Node representation.\"\"\"\n",
    "        s = ''\n",
    "        for i in range(self.n):\n",
    "            for j in range(self.n):\n",
    "                s += str(self.grid[i * self.n + j]) + \" \"\n",
    "            s += \"\\n\"\n",
    "        return s\n",
    "\n",
    "    def ok(self, coord):\n",
    "        \"\"\" Checks whether the coordinates specified by the user are ok\"\"\"\n",
    "        return coord >= 0 and coord < self.n ** 2\n",
    "            \n",
    "    def move(self, x, y):\n",
    "        \"\"\" Checks whether it's possible to move the tile and moves it. \"\"\"\n",
    "        if x < 0 or x >= self.n or y < 0 or y >= self.n:\n",
    "            return False\n",
    "        coord = x * self.n + y\n",
    "        if self.grid[coord] == 0:\n",
    "            return False\n",
    "        directions = [1, self.n, -1, -self.n]\n",
    "        for i in directions:\n",
    "            new_coord = coord + i\n",
    "            if self.ok(new_coord):\n",
    "                cond = abs(new_coord / self.n - coord / self.n) + abs(new_coord % self.n  - coord % self.n) \n",
    "                if self.grid[new_coord] == 0 and cond == 1:\n",
    "                    self.grid[new_coord] = self.grid[coord]\n",
    "                    self.grid[coord] = 0\n",
    "                    return True\n",
    "                \n",
    "    def get_state(self):\n",
    "        \"\"\" Outputs a 2-D representation of states\"\"\"\n",
    "        state =[[] for i in range(self.n)]\n",
    "        for i in range(self.n):\n",
    "            for j in range(self.n):\n",
    "                state[i].append(self.grid[i * self.n + j])\n",
    "        return state\n",
    "    \n",
    "    def __eq__(self, other):\n",
    "        \"\"\" \n",
    "        Makes it possible to compare nodes directly.\n",
    "        Nodes are considered equal if they are in the same state.\"\"\"\n",
    "        return self.grid == other.grid\n",
    "    \n",
    "    def __hash__(self):\n",
    "        \"\"\" Hash function is required for the set operations.\"\"\"\n",
    "        return hash(tuple(self.grid))\n",
    "    \n",
    "    def solvable(self):\n",
    "        n_invers = 0\n",
    "        for i in range(len(self.grid)):\n",
    "            for j in range(i, len(self.grid)):\n",
    "                if self.grid[i] > self.grid[j] and self.grid[j] != 0:\n",
    "                    n_invers += 1\n",
    "        return n_invers % 2 == 0"
   ]
  },
  {
   "cell_type": "markdown",
   "metadata": {},
   "source": [
    " In the last function of the cell above, I'm checking whether the state is solvable. I used this resource: https://www.youtube.com/watch?v=0pTciAl6Wc4 to find out that for the state to be solvable, it should have an even number of inversions. Inversion is when a tile precedes other lower number tile."
   ]
  },
  {
   "cell_type": "markdown",
   "metadata": {},
   "source": [
    "## Heuristics"
   ]
  },
  {
   "cell_type": "code",
   "execution_count": 3,
   "metadata": {
    "collapsed": false
   },
   "outputs": [],
   "source": [
    "def misplaced(state, n=3):\n",
    "    \"\"\" Calculates the number of misplaced tiles.\"\"\"\n",
    "    goal = range(n**2)\n",
    "    st =  [item for sublist in state for item in sublist]\n",
    "    count = 0\n",
    "    for i in range(len(st)):\n",
    "        if st[i] != goal[i]:\n",
    "            count += 1\n",
    "    return count\n",
    "\n",
    "def manhattan(state, n=3):\n",
    "    \"\"\" \n",
    "    Calculates the Manhattan distance. Returns summed\n",
    "    distance / 2 since 2 tiles are moved each time.\n",
    "    \"\"\"\n",
    "    count = 0\n",
    "    for i in range(len(state)):\n",
    "        for j in range(len(state[i])):\n",
    "            row = state[i][j]/n\n",
    "            column = state[i][j] % n\n",
    "            count += abs(i-row) + abs(j-column)\n",
    "    return count / 2\n",
    "\n",
    "def inversions(state, n=3):\n",
    "    \"\"\" Calculates the number of inversions.\n",
    "    I think this heuristic is closer to the actual\n",
    "    number of moves because it considers where tiles\n",
    "    are relative to each other and acts similar to humans\n",
    "    who try to position each tile in its correct position.\n",
    "    \"\"\"\n",
    "    n_invers = 0\n",
    "    puzzle = PuzzleNode(n, state)\n",
    "    for i in range(len(puzzle.grid)):\n",
    "        for j in range(i, len(puzzle.grid)):\n",
    "            if puzzle.grid[i] > puzzle.grid[j]:\n",
    "                n_invers += 1\n",
    "    return n_invers \n",
    "\n",
    "    # Heuristics handle\n",
    "heuristics = [misplaced, manhattan, inversions]"
   ]
  },
  {
   "cell_type": "markdown",
   "metadata": {},
   "source": [
    "## Optimal Solution"
   ]
  },
  {
   "cell_type": "code",
   "execution_count": 4,
   "metadata": {
    "collapsed": false
   },
   "outputs": [],
   "source": [
    "def solvePuzzle(n, state, heuristic,prnt = False):\n",
    "    \"\"\" \n",
    "    A function that checks the state of the puzzle and\n",
    "    implements A* search using different heuristics.\n",
    "    Inputs:\n",
    "    n - the puzzle dimension (i.e. n x n board)\n",
    "    state - the starting (scrambled) state of the puzzle,\n",
    "    provided as a list of lists, with the blank space\n",
    "    represented by the number 0. \n",
    "    heuristic - a handle to a heuristic function.\n",
    "    prnt - a boolean value that indicates whether or\n",
    "    not to print the solution.\n",
    "    Outputs:\n",
    "    steps - the number of steps to optimally reach the goal\n",
    "    state from the initial state\n",
    "    frontierSize - the frontier size.\n",
    "    err - an error code (details given in the next step)\n",
    "    \"\"\"\n",
    "    # Check if the state is ok\n",
    "    try:\n",
    "        puzzle = PuzzleNode(n, state)\n",
    "    except:\n",
    "        return 0, 0, -1\n",
    "    \n",
    "    # Check if the state is solvable\n",
    "    if not puzzle.solvable():\n",
    "        return 0, 0, -2\n",
    "    \n",
    "    frontier = PriorityQueue()\n",
    "    frontier.put((heuristic(state), 0, puzzle))\n",
    "    visited = set()\n",
    "    total_steps = 0\n",
    "    while not frontier.empty():\n",
    "        total_steps += 1\n",
    "        item = frontier.get()\n",
    "        current_puzzle = item[2]\n",
    "        min_steps = item[1]\n",
    "        if heuristic(current_puzzle.get_state()) == heuristic([[0,1,2], [3,4,5], [6,7,8]]):\n",
    "            if prnt:\n",
    "                # Reconstruct the optimal path using parent nodes\n",
    "                optimal_path = [current_puzzle.get_state()]\n",
    "                while current_puzzle.parent:\n",
    "                    optimal_path.append((current_puzzle.parent).get_state())\n",
    "                    current_puzzle = current_puzzle.parent\n",
    "                print(\"The number of steps algorithm required to reach the goal is %d.\\n\"% total_steps)\n",
    "                print(\"Optimal Path to Goal:\\n\")\n",
    "                for st in optimal_path[::-1]:\n",
    "                    print(st)\n",
    "                print (\"Frontier size: %d\"%frontier.qsize())\n",
    "            return min_steps, frontier.qsize(), 0\n",
    "        # Get neighboring states\n",
    "        list_of_neighbors = current_puzzle.neighbor_states()\n",
    "        for i, neighbor in enumerate(list_of_neighbors):\n",
    "            # Check if neighbor was visited\n",
    "            if neighbor not in visited:\n",
    "                state = neighbor.get_state()\n",
    "                # The nodes are sorted in the frontier according to h() + g().\n",
    "                frontier.put((heuristic(state) + min_steps + 1, (min_steps + 1), neighbor))\n",
    "                visited.add(neighbor)"
   ]
  },
  {
   "cell_type": "code",
   "execution_count": 5,
   "metadata": {
    "collapsed": false
   },
   "outputs": [
    {
     "name": "stdout",
     "output_type": "stream",
     "text": [
      "(28, 21608, 0)\n",
      "(28, 19719, 0)\n",
      "(28, 4422, 0)\n",
      "(25, 12856, 0)\n",
      "(25, 9761, 0)\n",
      "(29, 4498, 0)\n",
      "(17, 558, 0)\n",
      "(17, 470, 0)\n",
      "(17, 649, 0)\n"
     ]
    }
   ],
   "source": [
    "init_states = [[[5,7,6],[2,4,3],[8,1,0]],\n",
    "               [[7,0,8],[4,6,1],[5,3,2]], \n",
    "               [[2,3,7],[1,8,0],[6,5,4]]]\n",
    "for state in init_states:\n",
    "    for heuristic in heuristics:\n",
    "        print solvePuzzle(3,state, heuristic, False)\n"
   ]
  },
  {
   "cell_type": "markdown",
   "metadata": {},
   "source": [
    "All the heuristics managed to find the same shortest paths to the goal state. Manhattan significantly outperformed the number of misplaced tiles, while the number of inversions outperformed the other heuristics in most of the cases. It required a bigger frontier size in the third size which might mean that this heuristic is not admissible and doesn't behave optimally in all the cases. However, since this heuristic comes closer to the actual number of moves needed it outperforms the other heuristics almost all the time."
   ]
  }
 ],
 "metadata": {
  "kernelspec": {
   "display_name": "Python 2",
   "language": "python",
   "name": "python2"
  },
  "language_info": {
   "codemirror_mode": {
    "name": "ipython",
    "version": 2
   },
   "file_extension": ".py",
   "mimetype": "text/x-python",
   "name": "python",
   "nbconvert_exporter": "python",
   "pygments_lexer": "ipython2",
   "version": "2.7.12"
  }
 },
 "nbformat": 4,
 "nbformat_minor": 2
}
